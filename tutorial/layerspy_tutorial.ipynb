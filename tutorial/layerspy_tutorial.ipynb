{
 "cells": [
  {
   "cell_type": "markdown",
   "id": "9985a3c1",
   "metadata": {},
   "source": [
    "# Layerspy Tutorial \n",
    "\n",
    "The layerspy python package is a data analysis package that handles data naturally organized into layers. All layers are made up of one or more zones. Zones will have properties and additional numerical data corresponding to values of interest in the layer. "
   ]
  },
  {
   "cell_type": "markdown",
   "id": "03085cee",
   "metadata": {},
   "source": [
    "## Zones and initializing layers\n",
    "\n",
    "To demonstrate how to build a layer we will first define zone data. Zone data is held in dictionaries and should contain a dictionary key, a property dictionary, and additional numeric data. We begin by importing the layerspy package and creating a dictionary of zone data:"
   ]
  },
  {
   "cell_type": "code",
   "execution_count": null,
   "id": "4b063a1c",
   "metadata": {},
   "outputs": [],
   "source": [
    "import layerspy as ly\n",
    "zone_data = {'zone1': \n",
    "             {'properties': {'mass': 1}, \n",
    "              'mass fractions': {'ca45': 1e-5, 'ca46': 1e-6}\n",
    "             }\n",
    "            }"
   ]
  },
  {
   "cell_type": "markdown",
   "id": "50883d44",
   "metadata": {},
   "source": [
    "The above sample zone is an example of a zone with a mass of one and the numeric data representing the mass fraction of species within that zone. This zone data can be made into a layer:"
   ]
  },
  {
   "cell_type": "code",
   "execution_count": null,
   "id": "6065e980",
   "metadata": {},
   "outputs": [],
   "source": [
    "layer = ly.Layer(zone_data)"
   ]
  },
  {
   "cell_type": "markdown",
   "id": "b7e39bb2",
   "metadata": {},
   "source": [
    "Now we have a single zone layer. "
   ]
  },
  {
   "cell_type": "markdown",
   "id": "0e847f02",
   "metadata": {},
   "source": [
    "## Layers \n",
    "Now that we have a layer we can see what the layerspy package can do with this layer. We can recover zone data to it's original dictionary format by using:"
   ]
  },
  {
   "cell_type": "code",
   "execution_count": null,
   "id": "eeb314ec",
   "metadata": {},
   "outputs": [],
   "source": [
    "zones = layer.get_zone_data()\n",
    "for keys in zones:\n",
    "    print(keys, ':', zones[keys])"
   ]
  },
  {
   "cell_type": "markdown",
   "id": "4fa2f0b3",
   "metadata": {},
   "source": [
    "To create a copy of your layer for modification without disrupting the original layer data one can simply use the copy function and verify that the two layers are identical:"
   ]
  },
  {
   "cell_type": "code",
   "execution_count": null,
   "id": "6aafad92",
   "metadata": {},
   "outputs": [],
   "source": [
    "layer_copy = layer.copy()\n",
    "print(layer_copy == layer)"
   ]
  },
  {
   "cell_type": "markdown",
   "id": "1e0d7a50",
   "metadata": {},
   "source": [
    "We will now use this copy to update the layer with additional zone data. Additional data to update your layer cannot have identical zone labels. For example:"
   ]
  },
  {
   "cell_type": "code",
   "execution_count": null,
   "id": "1a6dca5d",
   "metadata": {},
   "outputs": [],
   "source": [
    "add_zone_data = {'zone1': \n",
    "                 {'properties': {'mass': .5}, \n",
    "                  'mass fractions': {'ca45': 1e-3, 'ca46': 1e-7}\n",
    "                 }\n",
    "                }\n",
    "layer_copy.update_layer(add_zone_data)"
   ]
  },
  {
   "cell_type": "markdown",
   "id": "2c49aac0",
   "metadata": {},
   "source": [
    "Returns a duplicate zone error. Instead the zone label must be something like 'zone2': "
   ]
  },
  {
   "cell_type": "code",
   "execution_count": null,
   "id": "ee125b3c",
   "metadata": {},
   "outputs": [],
   "source": [
    "add_zone_data = {'zone2': \n",
    "                 {'properties': {'mass': .5}, \n",
    "                  'mass fractions': {'ca45': 1e-3, 'ca46': 1e-7}\n",
    "                 }\n",
    "                }\n",
    "layer_copy.update_layer(add_zone_data)\n",
    "for keys in layer_copy.get_zone_data():\n",
    "    print(keys, ':', layer_copy.get_zone_data()[keys])"
   ]
  },
  {
   "cell_type": "markdown",
   "id": "6be587d1",
   "metadata": {},
   "source": [
    "To remove data from a layer one can call the remove_zones_from_layer function and pass a list of the zone keys to remove:"
   ]
  },
  {
   "cell_type": "code",
   "execution_count": null,
   "id": "2897aeeb",
   "metadata": {},
   "outputs": [],
   "source": [
    "zone_keys = ['zone1']\n",
    "layer_copy.remove_zones_from_layer(zone_keys)\n",
    "for keys in layer_copy.get_zone_data():\n",
    "    print(keys, ':', layer_copy.get_zone_data()[keys])"
   ]
  },
  {
   "cell_type": "markdown",
   "id": "df5a4991",
   "metadata": {},
   "source": [
    "To create a union between two layers one can call the merge_layers function which will modify the layer used to include the zone data from a separate layer:"
   ]
  },
  {
   "cell_type": "code",
   "execution_count": null,
   "id": "b64860d4",
   "metadata": {},
   "outputs": [],
   "source": [
    "layer_copy.merge_layers(layer)\n",
    "for keys in layer_copy.get_zone_data():\n",
    "    print(keys, ':', layer_copy.get_zone_data()[keys])"
   ]
  },
  {
   "cell_type": "markdown",
   "id": "a76ec877",
   "metadata": {},
   "source": [
    "## Mixing Layers \n",
    "If one would like to create a mixture of their layer one first needs to define a weight dictionary which will determine which zones contribute more to the mixture. For equal weights one can simply use:"
   ]
  },
  {
   "cell_type": "code",
   "execution_count": null,
   "id": "fb1d1afa",
   "metadata": {},
   "outputs": [],
   "source": [
    "weight_dict = layer_copy.make_weight_dict()\n",
    "for keys in weight_dict:\n",
    "    print(keys, ':', weight_dict[keys])"
   ]
  },
  {
   "cell_type": "markdown",
   "id": "5928c20c",
   "metadata": {},
   "source": [
    "If one would like to weight the mixture to contribute more based on a certain property they can pass that property through the function as an optional parameter:"
   ]
  },
  {
   "cell_type": "code",
   "execution_count": null,
   "id": "999d8d8f",
   "metadata": {},
   "outputs": [],
   "source": [
    "weight_dict = layer_copy.make_weight_dict(prop = 'mass')\n",
    "for keys in weight_dict:\n",
    "    print(keys, ':', weight_dict[keys])"
   ]
  },
  {
   "cell_type": "markdown",
   "id": "29323f3a",
   "metadata": {},
   "source": [
    "Since 'zone1' has a higher mass it has a larger weight proportional to how much more mass it has and therefore will contribute more of its numerical data to the final mixture. To create the mixed layer one simply uses:"
   ]
  },
  {
   "cell_type": "code",
   "execution_count": null,
   "id": "ebb7176f",
   "metadata": {},
   "outputs": [],
   "source": [
    "mixture = layer_copy.make_mixed_layer(weight_dict)\n",
    "for keys in mixture.get_zone_data():\n",
    "    print(keys, ':', mixture.get_zone_data()[keys])"
   ]
  }
 ],
 "metadata": {
  "kernelspec": {
   "display_name": "Python 3",
   "language": "python",
   "name": "python3"
  },
  "language_info": {
   "codemirror_mode": {
    "name": "ipython",
    "version": 3
   },
   "file_extension": ".py",
   "mimetype": "text/x-python",
   "name": "python",
   "nbconvert_exporter": "python",
   "pygments_lexer": "ipython3",
   "version": "3.9.1"
  }
 },
 "nbformat": 4,
 "nbformat_minor": 5
}
